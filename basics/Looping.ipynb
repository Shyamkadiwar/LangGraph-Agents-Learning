{
 "cells": [
  {
   "cell_type": "code",
   "execution_count": 1,
   "id": "99fdef66",
   "metadata": {},
   "outputs": [],
   "source": [
    "from typing_extensions import TypedDict, List\n",
    "from langgraph.graph import StateGraph, START, END\n",
    "import random"
   ]
  },
  {
   "cell_type": "code",
   "execution_count": 2,
   "id": "5a47630d",
   "metadata": {},
   "outputs": [],
   "source": [
    "class AgentState(TypedDict):\n",
    "  name : str\n",
    "  numbers: List[int]\n",
    "  counter: int"
   ]
  },
  {
   "cell_type": "code",
   "execution_count": null,
   "id": "63ef2714",
   "metadata": {},
   "outputs": [],
   "source": [
    "def greeting_node(state : AgentState) -> AgentState:\n",
    "  \"\"\"Node to greet the user\"\"\"\n",
    "\n",
    "  state['name'] = f\"Hi {state['name']}\"\n",
    "  state['counter'] = 0 #initializing default value\n",
    "  return state\n",
    "\n",
    "def random_numbers(state : AgentState) -> AgentState:\n",
    "  \"\"\"Node to generate random numbers\"\"\"\n",
    "  \n",
    "  state['numbers'].append(random.randint(0 , 10))\n",
    "  state['counter'] += 1\n",
    "  return state\n",
    "\n",
    "def should_continue(state : AgentState) -> AgentState:\n",
    "  \"\"\"Node to decide whether the loop should ocntinue or not\"\"\"\n",
    "  \n",
    "  if state['counter'] < 5:\n",
    "    print(\"ENTERING LOOP\" , state['counter'])\n",
    "    return \"loop\"\n",
    "  else : \n",
    "    return \"end\"\n"
   ]
  },
  {
   "cell_type": "code",
   "execution_count": 4,
   "id": "e737eb35",
   "metadata": {},
   "outputs": [],
   "source": [
    "graph = StateGraph(AgentState)\n",
    "\n",
    "graph.add_node(\"greeter\" , greeting_node)\n",
    "graph.add_node(\"random\" , random_numbers)\n",
    "\n",
    "graph.add_edge(START, \"greeter\")\n",
    "graph.add_edge(\"greeter\" , \"random\")\n",
    "graph.add_conditional_edges(\n",
    "  \"random\", #source node\n",
    "  should_continue, #routing function\n",
    "  {\n",
    "    \"loop\" : \"random\", #self looping\n",
    "    \"end\" : END #end\n",
    "  }\n",
    ")\n",
    "\n",
    "app = graph.compile()"
   ]
  },
  {
   "cell_type": "code",
   "execution_count": 5,
   "id": "8f20cbe5",
   "metadata": {},
   "outputs": [
    {
     "data": {
      "image/png": "[encoded data removed]",
      "text/plain": [
       "<IPython.core.display.Image object>"
      ]
     },
     "metadata": {},
     "output_type": "display_data"
    }
   ],
   "source": [
    "from IPython.display import Image, display\n",
    "display(Image(app.get_graph().draw_mermaid_png()))"
   ]
  },
  {
   "cell_type": "code",
   "execution_count": 7,
   "id": "5a6a804e",
   "metadata": {},
   "outputs": [
    {
     "name": "stdout",
     "output_type": "stream",
     "text": [
      "ENTERING LOOP 1\n",
      "ENTERING LOOP 2\n",
      "ENTERING LOOP 3\n",
      "ENTERING LOOP 4\n"
     ]
    }
   ],
   "source": [
    "res = app.invoke({\"name\" : \"Shyam\", \"numbers\" : [], \"counter\" : 1})"
   ]
  },
  {
   "cell_type": "code",
   "execution_count": 8,
   "id": "385e19cf",
   "metadata": {},
   "outputs": [
    {
     "name": "stdout",
     "output_type": "stream",
     "text": [
      "{'name': 'Hi Shyam', 'numbers': [8, 6, 2, 0, 1], 'counter': 5}\n"
     ]
    }
   ],
   "source": [
    "print(res)"
   ]
  },
  {
   "cell_type": "code",
   "execution_count": null,
   "id": "6a78bf44",
   "metadata": {},
   "outputs": [],
   "source": []
  }
 ],
 "metadata": {
  "kernelspec": {
   "display_name": ".venv",
   "language": "python",
   "name": "python3"
  },
  "language_info": {
   "codemirror_mode": {
    "name": "ipython",
    "version": 3
   },
   "file_extension": ".py",
   "mimetype": "text/x-python",
   "name": "python",
   "nbconvert_exporter": "python",
   "pygments_lexer": "ipython3",
   "version": "3.12.3"
  }
 },
 "nbformat": 4,
 "nbformat_minor": 5
}
