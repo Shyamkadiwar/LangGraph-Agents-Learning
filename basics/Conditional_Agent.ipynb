{
 "cells": [
  {
   "cell_type": "code",
   "execution_count": 1,
   "id": "a001dd54",
   "metadata": {},
   "outputs": [],
   "source": [
    "from typing import TypedDict\n",
    "from langgraph.graph import StateGraph, START, END"
   ]
  },
  {
   "cell_type": "code",
   "execution_count": 2,
   "id": "708d29b3",
   "metadata": {},
   "outputs": [],
   "source": [
    "class AgentState(TypedDict):\n",
    "    num1 : int\n",
    "    num2 : int\n",
    "    final : int\n",
    "    oper : str\n",
    "    res : str"
   ]
  },
  {
   "cell_type": "code",
   "execution_count": 3,
   "id": "297dd428",
   "metadata": {},
   "outputs": [],
   "source": [
    "def add_node(state : AgentState) -> AgentState:\n",
    "    \"\"\"Node to add numbers in the state\"\"\"\n",
    "\n",
    "    state['final'] = state['num1'] + state['num2']\n",
    "    state['res'] = f\"The final number after operation: {state['oper']} is : {state['final']}\"\n",
    "    return state\n",
    "\n",
    "def sub_node(state : AgentState) -> AgentState:\n",
    "    \"\"\"Node to subtract numbers in the state\"\"\"\n",
    "\n",
    "    state['final'] = state['num1'] - state['num2']\n",
    "    state['res'] = f\"The final number after operation: {state['oper']} is : {state['final']}\"\n",
    "    return state\n",
    "\n",
    "\n",
    "def route_to_operation(state : AgentState) -> AgentState:\n",
    "    \"\"\"Node to route the operation\"\"\"\n",
    "\n",
    "    if state['oper'] == \"+\":\n",
    "        return \"add\"\n",
    "    elif state['oper'] == \"-\":\n",
    "        return \"sub\""
   ]
  },
  {
   "cell_type": "code",
   "execution_count": 4,
   "id": "1804a116",
   "metadata": {},
   "outputs": [],
   "source": [
    "graph = StateGraph(AgentState)\n",
    "\n",
    "graph.add_node(\"add_node\", add_node)\n",
    "graph.add_node(\"sub_node\", sub_node)\n",
    "graph.add_node(\"router\", lambda state:state)\n",
    "\n",
    "graph.add_edge(START, \"router\")\n",
    "graph.add_conditional_edges(\n",
    "    \"router\",\n",
    "    route_to_operation,\n",
    "    {\n",
    "        # edge : node\n",
    "        \"add\" : \"add_node\",\n",
    "        \"sub\" : \"sub_node\"\n",
    "    }\n",
    ")\n",
    "\n",
    "graph.add_edge(\"add_node\", END)\n",
    "graph.add_edge(\"sub_node\", END)\n",
    "\n",
    "app = graph.compile()"
   ]
  },
  {
   "cell_type": "code",
   "execution_count": 5,
   "id": "fc20d2fd",
   "metadata": {},
   "outputs": [
    {
     "data": {
      "image/png": "[encoded data removed]",
      "text/plain": [
       "<IPython.core.display.Image object>"
      ]
     },
     "metadata": {},
     "output_type": "display_data"
    }
   ],
   "source": [
    "from IPython.display import Image, display\n",
    "display(Image(app.get_graph().draw_mermaid_png()))"
   ]
  },
  {
   "cell_type": "code",
   "execution_count": 6,
   "id": "aedcc1b7",
   "metadata": {},
   "outputs": [],
   "source": [
    "res = app.invoke({\"num1\" : 23, \"num2\" : 10, \"oper\" : \"+\"})"
   ]
  },
  {
   "cell_type": "code",
   "execution_count": 7,
   "id": "c77625a2",
   "metadata": {},
   "outputs": [
    {
     "data": {
      "text/plain": [
       "{'num1': 23,\n",
       " 'num2': 10,\n",
       " 'final': 33,\n",
       " 'oper': '+',\n",
       " 'res': 'The final number after operation: + is : 33'}"
      ]
     },
     "execution_count": 7,
     "metadata": {},
     "output_type": "execute_result"
    }
   ],
   "source": [
    "res"
   ]
  },
  {
   "cell_type": "code",
   "execution_count": 8,
   "id": "d44de6e5",
   "metadata": {},
   "outputs": [],
   "source": [
    "res2 = app.invoke({\"num1\" : 23, \"num2\" : 10, \"oper\" : \"-\"})"
   ]
  },
  {
   "cell_type": "code",
   "execution_count": 9,
   "id": "1f5a9c1e",
   "metadata": {},
   "outputs": [
    {
     "data": {
      "text/plain": [
       "{'num1': 23,\n",
       " 'num2': 10,\n",
       " 'final': 13,\n",
       " 'oper': '-',\n",
       " 'res': 'The final number after operation: - is : 13'}"
      ]
     },
     "execution_count": 9,
     "metadata": {},
     "output_type": "execute_result"
    }
   ],
   "source": [
    "res2"
   ]
  },
  {
   "cell_type": "code",
   "execution_count": null,
   "id": "73ac26c6",
   "metadata": {},
   "outputs": [],
   "source": []
  }
 ],
 "metadata": {
  "kernelspec": {
   "display_name": ".venv",
   "language": "python",
   "name": "python3"
  },
  "language_info": {
   "codemirror_mode": {
    "name": "ipython",
    "version": 3
   },
   "file_extension": ".py",
   "mimetype": "text/x-python",
   "name": "python",
   "nbconvert_exporter": "python",
   "pygments_lexer": "ipython3",
   "version": "3.12.3"
  }
 },
 "nbformat": 4,
 "nbformat_minor": 5
}
